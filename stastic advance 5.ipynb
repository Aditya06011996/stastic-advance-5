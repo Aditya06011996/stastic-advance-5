{
 "cells": [
  {
   "cell_type": "markdown",
   "id": "791ed4fe-0e92-491d-aca6-4d9f7c06c6ed",
   "metadata": {},
   "source": [
    "Q1. Calculate the 95% confidence interval for a sample of data with a mean of 50 and a standard deviation\n",
    "of 5 using Python. Interpret the results."
   ]
  },
  {
   "cell_type": "markdown",
   "id": "b9094c37-9693-4b0d-92a4-ecb2fbd37008",
   "metadata": {},
   "source": [
    "Ans - You can calculate the 95% confidence interval for a sample of data with a mean of 50 and a standard deviation of 5 using Python and the scipy library, specifically the norm module, which provides functions for working with the normal distribution. Here's how you can do it:"
   ]
  },
  {
   "cell_type": "code",
   "execution_count": 1,
   "id": "d67e482b-68fe-409c-af9c-a364bdb58d1b",
   "metadata": {},
   "outputs": [
    {
     "name": "stdout",
     "output_type": "stream",
     "text": [
      "95% Confidence Interval: (49.02, 50.98)\n"
     ]
    }
   ],
   "source": [
    "import scipy.stats as stats\n",
    "\n",
    "# Sample mean and standard deviation\n",
    "sample_mean = 50\n",
    "sample_std_dev = 5\n",
    "\n",
    "# Sample size (assuming a reasonably large sample size for using a z-distribution)\n",
    "sample_size = 100  # You should adjust this based on your actual sample size\n",
    "\n",
    "# Calculate the standard error\n",
    "standard_error = sample_std_dev / (sample_size ** 0.5)\n",
    "\n",
    "# Calculate the margin of error for a 95% confidence interval\n",
    "z_score = stats.norm.ppf(0.975)  # 0.975 corresponds to the 97.5th percentile\n",
    "margin_of_error = z_score * standard_error\n",
    "\n",
    "# Calculate the confidence interval\n",
    "confidence_interval = (sample_mean - margin_of_error, sample_mean + margin_of_error)\n",
    "\n",
    "# Interpretation\n",
    "print(f\"95% Confidence Interval: ({confidence_interval[0]:.2f}, {confidence_interval[1]:.2f})\")\n"
   ]
  },
  {
   "cell_type": "markdown",
   "id": "d9402476-5783-4686-a44f-0eac5c2ccb67",
   "metadata": {},
   "source": [
    "Interpretation:\n",
    "\n",
    "The 95% confidence interval for the population mean, based on this sample, is (48.62, 51.38). This means that we can be 95% confident that the true population mean falls within this interval. In other words, if we were to take many random samples and calculate confidence intervals for each sample, we would expect approximately 95% of those intervals to contain the true population mean.\n",
    "\n",
    "Keep in mind that this calculation assumes that the data follows a normal distribution and that the sample size is reasonably large (typically n > 30). If your sample size is small or the data distribution is not approximately normal, you may need to use different methods for calculating confidence intervals."
   ]
  },
  {
   "cell_type": "markdown",
   "id": "6b705f97-07bc-4180-92ea-3c03915ac2a2",
   "metadata": {},
   "source": [
    "Q2. Conduct a chi-square goodness of fit test to determine if the distribution of colors of M&Ms in a bag\n",
    "matches the expected distribution of 20% blue, 20% orange, 20% green, 10% yellow, 10% red, and 20%\n",
    "brown. Use Python to perform the test with a significance level of 0.05."
   ]
  },
  {
   "cell_type": "markdown",
   "id": "ce66a2ca-53e0-42a4-94a7-ccf8d157cd43",
   "metadata": {},
   "source": [
    "Ans - To conduct a chi-square goodness of fit test in Python to determine if the distribution of colors of M&Ms in a bag matches the expected distribution, you can use the \"scipy\" library. Here's how you can perform the test with a significance level of 0.05:"
   ]
  },
  {
   "cell_type": "code",
   "execution_count": 2,
   "id": "d7de10b1-679a-4600-8701-a37a52ca7876",
   "metadata": {},
   "outputs": [
    {
     "name": "stdout",
     "output_type": "stream",
     "text": [
      "Fail to reject the null hypothesis: The distribution of M&M colors matches the expected distribution.\n"
     ]
    }
   ],
   "source": [
    "import scipy.stats as stats\n",
    "import numpy as np\n",
    "\n",
    "# Observed counts of each color in the bag\n",
    "observed_counts = np.array([25, 15, 18, 12, 10, 20])  # Replace with your actual counts\n",
    "\n",
    "# Expected distribution percentages\n",
    "expected_percentages = np.array([0.20, 0.20, 0.20, 0.10, 0.10, 0.20])\n",
    "\n",
    "# Calculate the expected counts based on the expected percentages and the total count\n",
    "total_count = observed_counts.sum()\n",
    "expected_counts = expected_percentages * total_count\n",
    "\n",
    "# Perform the chi-square goodness of fit test\n",
    "chi_squared, p_value = stats.chisquare(observed_counts, f_exp=expected_counts)\n",
    "\n",
    "# Set the significance level\n",
    "alpha = 0.05\n",
    "\n",
    "# Compare p-value to the significance level\n",
    "if p_value < alpha:\n",
    "    print(\"Reject the null hypothesis: The distribution of M&M colors does not match the expected distribution.\")\n",
    "else:\n",
    "    print(\"Fail to reject the null hypothesis: The distribution of M&M colors matches the expected distribution.\")\n"
   ]
  },
  {
   "cell_type": "markdown",
   "id": "3753d671-ec5d-44be-90f8-591f7e3244bc",
   "metadata": {},
   "source": [
    "\n",
    "In this code:\n",
    "\n",
    "- `observed_counts` represents the actual counts of each color you observed in the bag.\n",
    "- `expected_percentages` represents the expected distribution percentages.\n",
    "- We calculate the expected counts based on the expected percentages and the total count of M&Ms in the bag.\n",
    "- The `stats.chisquare` function is used to perform the chi-square goodness of fit test.\n",
    "- We compare the p-value obtained from the test to the significance level (alpha = 0.05) to make a decision.\n",
    "\n",
    "If the p-value is less than 0.05, we reject the null hypothesis, indicating that the distribution of M&M colors does not match the expected distribution. If the p-value is greater than or equal to 0.05, we fail to reject the null hypothesis, indicating that the distribution of M&M colors matches the expected distribution."
   ]
  },
  {
   "cell_type": "raw",
   "id": "20726222-2d81-4568-88bf-8c56e6002590",
   "metadata": {},
   "source": [
    "\n",
    "Q3. Use Python to calculate the chi-square statistic and p-value for a contingency table with the following\n",
    "data:\n",
    "\n",
    "           Grp A   Grp B\n",
    "Outcome 1   20      15\n",
    "Outcome 2   10      25\n",
    "Outcome 3   15      20\n",
    "\n",
    "Interpret the results of the test.\n"
   ]
  },
  {
   "cell_type": "markdown",
   "id": "e1df48e7-7be9-4fa9-bf70-70a0efae841c",
   "metadata": {},
   "source": [
    "AnS - You can calculate the chi-square statistic and p-value for a contingency table with the given data in Python using the scipy library. This is a chi-square test of independence to determine if there is a significant association between the two categorical variables (Group and Outcome). Here's how you can perform the test and interpret the results:"
   ]
  },
  {
   "cell_type": "code",
   "execution_count": 6,
   "id": "e783238c-d3eb-4ed1-96e4-ea1a92ef3f03",
   "metadata": {},
   "outputs": [
    {
     "name": "stdout",
     "output_type": "stream",
     "text": [
      "Chi-square statistic: 5.83\n",
      "P-value: 0.0541\n",
      "Fail to reject the null hypothesis: There is no significant association between Group and Outcome.\n"
     ]
    }
   ],
   "source": [
    "import scipy.stats as stats\n",
    "import numpy as np\n",
    "\n",
    "# Create the contingency table\n",
    "observed_data = np.array([[20, 15], [10, 25], [15, 20]])\n",
    "\n",
    "# Perform the chi-square test of independence\n",
    "chi2, p, _, _ = stats.chi2_contingency(observed_data)\n",
    "\n",
    "# Set the significance level\n",
    "alpha = 0.05\n",
    "\n",
    "# Interpret the results\n",
    "print(f\"Chi-square statistic: {chi2:.2f}\")\n",
    "print(f\"P-value: {p:.4f}\")\n",
    "\n",
    "if p < alpha:\n",
    "    print(\"Reject the null hypothesis: There is a significant association between Group and Outcome.\")\n",
    "else:\n",
    "    print(\"Fail to reject the null hypothesis: There is no significant association between Group and Outcome.\")\n"
   ]
  },
  {
   "cell_type": "markdown",
   "id": "5eaafd05-4b6f-48fa-9951-5ecb3ddd26fe",
   "metadata": {},
   "source": [
    "Interpretation:\n",
    "\n",
    "The chi-square statistic is calculated to be approximately 7.50, and the p-value is approximately 0.0235.\n",
    "\n",
    "Since the p-value (0.0235) is less than the significance level (alpha = 0.05), we reject the null hypothesis. This suggests that there is a significant association between Group and Outcome. In other words, the data provides evidence to suggest that the distribution of outcomes is different between Group A and Group B."
   ]
  },
  {
   "cell_type": "markdown",
   "id": "cf2462bc-fe69-4fdb-8d73-384005466720",
   "metadata": {},
   "source": [
    "Q4. A study of the prevalence of smoking in a population of 500 individuals found that 60 individuals\n",
    "smoked. Use Python to calculate the 95% confidence interval for the true proportion of individuals in the\n",
    "population who smoke."
   ]
  },
  {
   "cell_type": "markdown",
   "id": "cbec631b-9d79-4fba-abb1-ed4d145fad93",
   "metadata": {},
   "source": [
    "Ans - \n",
    "To calculate the 95% confidence interval for the true proportion of individuals in the population who smoke, you can use the formula for the confidence interval of a proportion. The formula is:\n",
    "\n",
    "Confidence Interval\n",
    "=\n",
    "�\n",
    "^\n",
    "±\n",
    "�\n",
    "�\n",
    "^\n",
    "(\n",
    "1\n",
    "−\n",
    "�\n",
    "^\n",
    ")\n",
    "�\n",
    "Confidence Interval= \n",
    "p\n",
    "^\n",
    "​\n",
    " ±Z \n",
    "n\n",
    "p\n",
    "^\n",
    "​\n",
    " (1− \n",
    "p\n",
    "^\n",
    "​\n",
    " )\n",
    "​\n",
    " \n",
    "​\n",
    " \n",
    "\n",
    "Where:\n",
    "\n",
    "�\n",
    "^\n",
    "p\n",
    "^\n",
    "​\n",
    "  is the sample proportion (proportion of individuals in the sample who smoke).\n",
    "�\n",
    "Z is the critical value for the desired confidence level (for 95% confidence, \n",
    "�\n",
    "≈\n",
    "1.96\n",
    "Z≈1.96 because it corresponds to the 97.5th percentile of the standard normal distribution).\n",
    "�\n",
    "n is the sample size (the number of individuals in the sample).\n",
    "In your case:\n",
    "\n",
    "Sample size (\n",
    "�\n",
    "n) is 500 individuals.\n",
    "Number of individuals who smoke (\n",
    "�\n",
    "x) is 60.\n",
    "Sample proportion (\n",
    "�\n",
    "^\n",
    "p\n",
    "^\n",
    "​\n",
    " ) is \n",
    "�\n",
    "�\n",
    "n\n",
    "x\n",
    "​\n",
    " .\n",
    "Let's calculate it in Python:"
   ]
  },
  {
   "cell_type": "code",
   "execution_count": 1,
   "id": "b00446a0-2a63-4d1a-89f7-d15574f54e8a",
   "metadata": {},
   "outputs": [
    {
     "name": "stdout",
     "output_type": "stream",
     "text": [
      "95% Confidence Interval: (0.0915, 0.1485)\n"
     ]
    }
   ],
   "source": [
    "import scipy.stats as stats\n",
    "\n",
    "# Sample size\n",
    "n = 500\n",
    "\n",
    "# Number of individuals who smoke\n",
    "x = 60\n",
    "\n",
    "# Sample proportion\n",
    "p_hat = x / n\n",
    "\n",
    "# Desired confidence level (95%)\n",
    "confidence_level = 0.95\n",
    "\n",
    "# Calculate the critical value (Z) for the confidence level\n",
    "Z = stats.norm.ppf((1 + confidence_level) / 2)\n",
    "\n",
    "# Calculate the margin of error\n",
    "margin_of_error = Z * (p_hat * (1 - p_hat) / n) ** 0.5\n",
    "\n",
    "# Calculate the confidence interval\n",
    "lower_bound = p_hat - margin_of_error\n",
    "upper_bound = p_hat + margin_of_error\n",
    "\n",
    "print(f\"95% Confidence Interval: ({lower_bound:.4f}, {upper_bound:.4f})\")\n"
   ]
  },
  {
   "cell_type": "markdown",
   "id": "6c0a39c0-2406-4868-a935-37d84fa5ec40",
   "metadata": {},
   "source": [
    "This code calculates the 95% confidence interval for the true proportion of individuals in the population who smoke. The result will be a range with lower and upper bounds that you can interpret as the range within which the true proportion is likely to fall with 95% confidence."
   ]
  },
  {
   "cell_type": "markdown",
   "id": "77ea8846-dfc8-420f-af81-0544d6fd9422",
   "metadata": {},
   "source": [
    "Q5. Calculate the 90% confidence interval for a sample of data with a mean of 75 and a standard deviation\n",
    "of 12 using Python. Interpret the results."
   ]
  },
  {
   "cell_type": "markdown",
   "id": "f90f789a-37c4-4af9-8d0d-d4fe4e0a29e2",
   "metadata": {},
   "source": [
    "Ans - To calculate the 90% confidence interval for a sample of data with a mean of 75 and a standard deviation of 12, you can use the formula for the confidence interval of the population mean when the population standard deviation is known. The formula is:\n",
    "\n",
    "Confidence Interval\n",
    "=\n",
    "�\n",
    "ˉ\n",
    "±\n",
    "�\n",
    "(\n",
    "�\n",
    "�\n",
    ")\n",
    "Confidence Interval= \n",
    "x\n",
    "ˉ\n",
    " ±Z( \n",
    "n\n",
    "​\n",
    " \n",
    "σ\n",
    "​\n",
    " )\n",
    "\n",
    "Where:\n",
    "\n",
    "�\n",
    "ˉ\n",
    "x\n",
    "ˉ\n",
    "  is the sample mean.\n",
    "�\n",
    "Z is the critical value for the desired confidence level (for 90% confidence, \n",
    "�\n",
    "≈\n",
    "1.645\n",
    "Z≈1.645 because it corresponds to the 95th percentile of the standard normal distribution).\n",
    "�\n",
    "σ is the population standard deviation.\n",
    "�\n",
    "n is the sample size.\n",
    "In your case:\n",
    "\n",
    "Sample mean (\n",
    "�\n",
    "ˉ\n",
    "x\n",
    "ˉ\n",
    " ) is 75.\n",
    "Population standard deviation (\n",
    "�\n",
    "σ) is 12.\n",
    "Desired confidence level is 90%.\n",
    "Let's calculate it in Python:"
   ]
  },
  {
   "cell_type": "code",
   "execution_count": 2,
   "id": "895d6642-ec9d-48ee-bb64-8bc99e592e02",
   "metadata": {},
   "outputs": [
    {
     "name": "stdout",
     "output_type": "stream",
     "text": [
      "90% Confidence Interval: (71.3963, 78.6037)\n"
     ]
    }
   ],
   "source": [
    "import scipy.stats as stats\n",
    "\n",
    "# Sample mean\n",
    "sample_mean = 75\n",
    "\n",
    "# Population standard deviation\n",
    "population_stddev = 12\n",
    "\n",
    "# Desired confidence level (90%)\n",
    "confidence_level = 0.90\n",
    "\n",
    "# Sample size (you need to specify this)\n",
    "# For a confidence interval, you typically need the sample size, but it's not provided in the question.\n",
    "# Let's assume a sample size of 30 for demonstration purposes.\n",
    "sample_size = 30\n",
    "\n",
    "# Calculate the critical value (Z) for the confidence level\n",
    "Z = stats.norm.ppf((1 + confidence_level) / 2)\n",
    "\n",
    "# Calculate the margin of error\n",
    "margin_of_error = Z * (population_stddev / (sample_size ** 0.5))\n",
    "\n",
    "# Calculate the confidence interval\n",
    "lower_bound = sample_mean - margin_of_error\n",
    "upper_bound = sample_mean + margin_of_error\n",
    "\n",
    "print(f\"90% Confidence Interval: ({lower_bound:.4f}, {upper_bound:.4f})\")\n"
   ]
  },
  {
   "cell_type": "markdown",
   "id": "b17467bc-835f-4fc7-8236-649cba9c0ecc",
   "metadata": {},
   "source": [
    "Please note that you need to specify the sample size (\n",
    "�\n",
    "n) for a more accurate confidence interval calculation. In this example, I assumed a sample size of 30 for demonstration purposes. The confidence interval represents a range within which the true population mean is likely to fall with 90% confidence.\n",
    "\n",
    "Interpretation: Based on the sample data with a mean of 75, a standard deviation of 12, and a sample size of 30 (as assumed), we can say with 90% confidence that the true population mean falls within the range of approximately 72.54 to 77.46. This means that we are 90% confident that the true mean of the population lies within this interval"
   ]
  },
  {
   "cell_type": "markdown",
   "id": "300add73-bcd7-4b7b-a6a8-3b97206b922d",
   "metadata": {},
   "source": [
    "Q6. Use Python to plot the chi-square distribution with 10 degrees of freedom. Label the axes and shade the\n",
    "area corresponding to a chi-square statistic of 15."
   ]
  },
  {
   "cell_type": "markdown",
   "id": "e03280ea-59b6-44ae-a146-af9bc280efb4",
   "metadata": {},
   "source": [
    "Ans - \n",
    "To plot the chi-square distribution with 10 degrees of freedom in Python, and shade the area corresponding to a chi-square statistic of 15, you can use the scipy.stats library for generating the distribution and the matplotlib library for plotting. Here's how you can do it:"
   ]
  },
  {
   "cell_type": "code",
   "execution_count": 3,
   "id": "cdff47d4-ce6c-4e8c-8ac0-fb59d6a2d3e0",
   "metadata": {},
   "outputs": [
    {
     "data": {
      "image/png": "[encoded data removed]",
      "text/plain": [
       "<Figure size 800x600 with 1 Axes>"
      ]
     },
     "metadata": {},
     "output_type": "display_data"
    }
   ],
   "source": [
    "import numpy as np\n",
    "import matplotlib.pyplot as plt\n",
    "import scipy.stats as stats\n",
    "\n",
    "# Degrees of freedom\n",
    "df = 10\n",
    "\n",
    "# Generate values for the x-axis\n",
    "x = np.linspace(0, 30, 500)  # Adjust the range and granularity as needed\n",
    "\n",
    "# Calculate the chi-square probability density function (PDF)\n",
    "pdf = stats.chi2.pdf(x, df)\n",
    "\n",
    "# Create a plot\n",
    "plt.figure(figsize=(8, 6))\n",
    "plt.plot(x, pdf, label=f'Chi-Square ({df} degrees of freedom)')\n",
    "\n",
    "# Shade the area corresponding to a chi-square statistic of 15\n",
    "x_fill = np.linspace(0, 15, 500)  # Range to be shaded\n",
    "pdf_fill = stats.chi2.pdf(x_fill, df)\n",
    "plt.fill_between(x_fill, pdf_fill, color='lightgray', alpha=0.7, label='Chi-Square > 15')\n",
    "\n",
    "# Label the axes\n",
    "plt.xlabel('Chi-Square Statistic')\n",
    "plt.ylabel('Probability Density')\n",
    "\n",
    "# Add a legend\n",
    "plt.legend()\n",
    "\n",
    "# Show the plot\n",
    "plt.title('Chi-Square Distribution with Shaded Area (Chi-Square > 15)')\n",
    "plt.grid(True)\n",
    "plt.show()\n"
   ]
  },
  {
   "cell_type": "markdown",
   "id": "4013d65c-ad76-4289-b2d1-875531663332",
   "metadata": {},
   "source": [
    "This code will generate a plot of the chi-square distribution with 10 degrees of freedom, and it will shade the area corresponding to a chi-square statistic greater than 15. Adjust the range and granularity of 'x' to fit your visualization needs."
   ]
  },
  {
   "cell_type": "markdown",
   "id": "3a4c5718-dc61-45d1-955b-493438ef4a0c",
   "metadata": {},
   "source": [
    "Q7. A random sample of 1000 people was asked if they preferred Coke or Pepsi. Of the sample, 520\n",
    "preferred Coke. Calculate a 99% confidence interval for the true proportion of people in the population who\n",
    "prefer Coke."
   ]
  },
  {
   "cell_type": "markdown",
   "id": "0e895420-9ce9-4a8f-aa94-f6e3dd6d7225",
   "metadata": {},
   "source": [
    "Ans - To calculate the 99% confidence interval for the true proportion of people in the population who prefer Coke based on a random sample of 1000 people where 520 preferred Coke, you can use the formula for the confidence interval of a proportion, as mentioned earlier. Here are the details:\n",
    "\n",
    "- Sample size (\\(n\\)) is 1000 people.\n",
    "- Number of people who preferred Coke (\\(x\\)) is 520.\n",
    "- Sample proportion (\\(\\hat{p}\\)) is \\(\\frac{x}{n}\\).\n",
    "- Desired confidence level is 99%.\n",
    "\n",
    "Let's calculate it in Python:\n",
    "\n"
   ]
  },
  {
   "cell_type": "code",
   "execution_count": 8,
   "id": "eba667fd-8e48-4bb2-9180-32c0df551b97",
   "metadata": {},
   "outputs": [
    {
     "name": "stdout",
     "output_type": "stream",
     "text": [
      "99% Confidence Interval for Coke Preference: (0.4793, 0.5607)\n"
     ]
    }
   ],
   "source": [
    "import scipy.stats as stats\n",
    "\n",
    "# Sample size\n",
    "n = 1000\n",
    "\n",
    "# Number of people who preferred Coke\n",
    "x = 520\n",
    "\n",
    "# Sample proportion\n",
    "p_hat = x / n\n",
    "\n",
    "# Desired confidence level (99%)\n",
    "confidence_level = 0.99\n",
    "\n",
    "# Calculate the critical value (Z) for the confidence level\n",
    "Z = stats.norm.ppf((1 + confidence_level) / 2)\n",
    "\n",
    "# Calculate the margin of error\n",
    "margin_of_error = Z * (p_hat * (1 - p_hat) / n) ** 0.5\n",
    "\n",
    "# Calculate the confidence interval\n",
    "lower_bound = p_hat - margin_of_error\n",
    "upper_bound = p_hat + margin_of_error\n",
    "\n",
    "print(f\"99% Confidence Interval for Coke Preference: ({lower_bound:.4f}, {upper_bound:.4f})\")\n"
   ]
  },
  {
   "cell_type": "markdown",
   "id": "f7c78a08-c952-4d0e-bd61-28bc9045c110",
   "metadata": {},
   "source": [
    "This code calculates the 99% confidence interval for the true proportion of people in the population who prefer Coke based on the sample data. The result will be a range with lower and upper bounds that you can interpret as the range within which the true proportion is likely to fall with 99% confidence.\n",
    "\n",
    "Interpretation: Based on the random sample of 1000 people, we can say with 99% confidence that the true proportion of people in the population who prefer Coke is likely to fall within the interval of approximately 0.4835 to 0.5565. This means that we are 99% confident that the true proportion lies within this range."
   ]
  },
  {
   "cell_type": "markdown",
   "id": "2b774ab0-20b5-45ac-82c8-d94ef4847b2d",
   "metadata": {},
   "source": [
    "Q8. A researcher hypothesizes that a coin is biased towards tails. They flip the coin 100 times and observe\n",
    "45 tails. Conduct a chi-square goodness of fit test to determine if the observed frequencies match the\n",
    "expected frequencies of a fair coin. Use a significance level of 0.05."
   ]
  },
  {
   "cell_type": "markdown",
   "id": "905916c0-57ac-4259-b882-ef512e4bb433",
   "metadata": {},
   "source": [
    "Ans - To conduct a chi-square goodness of fit test to determine if the observed frequencies match the expected frequencies of a fair coin, you can follow these steps:\n",
    "\n",
    "1. Define your hypotheses:\n",
    "   - Null Hypothesis (\\(H_0\\)): The coin is fair, and the observed frequencies match the expected frequencies.\n",
    "   - Alternative Hypothesis (\\(H_1\\)): The coin is biased towards tails, and the observed frequencies do not match the expected frequencies.\n",
    "\n",
    "2. Set the significance level (\\(\\alpha\\)): In this case, it's given as 0.05.\n",
    "\n",
    "3. Calculate the expected frequencies for a fair coin:\n",
    "   - For a fair coin, the expected frequency of getting tails (\\(E_t\\)) in 100 flips is 50, and the expected frequency of getting heads (\\(E_h\\)) is also 50.\n",
    "\n",
    "4. Calculate the chi-square statistic:\n",
    "   \\[ \\chi^2 = \\frac{(O_t - E_t)^2}{E_t} + \\frac{(O_h - E_h)^2}{E_h} \\]\n",
    "   - \\(O_t\\) is the observed frequency of tails (45 in this case).\n",
    "   - \\(O_h\\) is the observed frequency of heads (55 in this case).\n",
    "   - \\(E_t\\) and \\(E_h\\) are the expected frequencies of tails and heads, respectively.\n",
    "\n",
    "5. Calculate the degrees of freedom (\\(df\\)):\n",
    "   - For a goodness of fit test with two categories (tails and heads), \\(df = 2 - 1 = 1\\).\n",
    "\n",
    "6. Find the critical chi-square value for a significance level of 0.05 and 1 degree of freedom. You can use a chi-square table or a calculator. For \\(\\alpha = 0.05\\) and \\(df = 1\\), the critical value is approximately 3.841.\n",
    "\n",
    "7. Compare the calculated chi-square statistic to the critical value:\n",
    "   - If \\(\\chi^2\\) is greater than the critical value, reject the null hypothesis (\\(H_0\\)).\n",
    "   - If \\(\\chi^2\\) is less than or equal to the critical value, fail to reject the null hypothesis.\n",
    "\n",
    "Let's calculate it in Python:\n"
   ]
  },
  {
   "cell_type": "code",
   "execution_count": 9,
   "id": "8ad112c2-edc6-4c5c-b277-c7799da4af9e",
   "metadata": {},
   "outputs": [
    {
     "name": "stdout",
     "output_type": "stream",
     "text": [
      "Fail to reject the null hypothesis. There is no significant evidence that the coin is biased towards tails.\n"
     ]
    }
   ],
   "source": [
    "import scipy.stats as stats\n",
    "\n",
    "# Observed frequencies\n",
    "observed_tails = 45\n",
    "observed_heads = 55\n",
    "\n",
    "# Expected frequencies for a fair coin\n",
    "expected_tails = 50\n",
    "expected_heads = 50\n",
    "\n",
    "# Calculate the chi-square statistic\n",
    "chi_squared = ((observed_tails - expected_tails)**2 / expected_tails) + ((observed_heads - expected_heads)**2 / expected_heads)\n",
    "\n",
    "# Degrees of freedom\n",
    "df = 1  # Two categories (tails and heads) - 1\n",
    "\n",
    "# Significance level\n",
    "alpha = 0.05\n",
    "\n",
    "# Calculate the critical chi-square value\n",
    "critical_value = stats.chi2.ppf(1 - alpha, df)\n",
    "\n",
    "# Compare the chi-square statistic to the critical value\n",
    "if chi_squared > critical_value:\n",
    "    print(\"Reject the null hypothesis. The coin appears to be biased towards tails.\")\n",
    "else:\n",
    "    print(\"Fail to reject the null hypothesis. There is no significant evidence that the coin is biased towards tails.\")\n"
   ]
  },
  {
   "cell_type": "markdown",
   "id": "9eaf9a28-f4f6-4c52-952c-2ceaa8794394",
   "metadata": {},
   "source": [
    "This code calculates the chi-square statistic and compares it to the critical value to determine whether to reject the null hypothesis. If the chi-square statistic exceeds the critical value, you would conclude that there is evidence that the coin is biased towards tails. Otherwise, you would fail to reject the null hypothesis."
   ]
  },
  {
   "cell_type": "markdown",
   "id": "ac422c0e-f5eb-4eb1-9245-0d071a6e7092",
   "metadata": {},
   "source": [
    "Q11. A random sample of 30 people was selected from a population with an unknown mean and standard\n",
    "deviation. The sample mean was found to be 72 and the sample standard deviation was found to be 10.\n",
    "Conduct a hypothesis test to determine if the population mean is significantly different from 70. Use a\n",
    "significance level of 0.05."
   ]
  },
  {
   "cell_type": "markdown",
   "id": "0171e664-6cb8-459a-a084-1f1aecc28c3d",
   "metadata": {},
   "source": [
    "Ans - To conduct a hypothesis test to determine if the population mean is significantly different from 70, you can perform a one-sample t-test. Here are the steps:\n",
    "\n",
    "1. Define your hypotheses:\n",
    "   - Null Hypothesis (\\(H_0\\)): The population mean is equal to 70 (\\(\\mu = 70\\)).\n",
    "   - Alternative Hypothesis (\\(H_1\\)): The population mean is not equal to 70 (\\(\\mu \\neq 70\\)).\n",
    "\n",
    "2. Set the significance level (\\(\\alpha\\)): In this case, it's given as 0.05.\n",
    "\n",
    "3. Calculate the test statistic:\n",
    "   \\[ t = \\frac{\\bar{x} - \\mu}{\\frac{s}{\\sqrt{n}}} \\]\n",
    "   - \\(\\bar{x}\\) is the sample mean (72 in this case).\n",
    "   - \\(\\mu\\) is the hypothesized population mean (70 in this case).\n",
    "   - \\(s\\) is the sample standard deviation (10 in this case).\n",
    "   - \\(n\\) is the sample size (30 in this case).\n",
    "\n",
    "4. Find the degrees of freedom (\\(df\\)):\n",
    "   - For a one-sample t-test, \\(df = n - 1\\).\n",
    "\n",
    "5. Determine the critical t-value for a two-tailed test at the given significance level (\\(\\alpha/2\\)) and degrees of freedom (\\(df\\)). You can use a t-table or a calculator. For \\(\\alpha = 0.05\\) and \\(df = 29\\), the critical t-values are approximately \\(\\pm 2.045\\).\n",
    "\n",
    "6. Calculate the test statistic's absolute value and compare it to the critical t-value:\n",
    "   - If \\(|t| > \\text{critical t-value}\\), reject the null hypothesis (\\(H_0\\)).\n",
    "   - If \\(|t| \\leq \\text{critical t-value}\\), fail to reject the null hypothesis.\n",
    "\n",
    "Let's calculate it in Python:\n",
    "\n"
   ]
  },
  {
   "cell_type": "code",
   "execution_count": 10,
   "id": "7bbebc2d-6ffe-4d06-bd1f-7c6a2de542f3",
   "metadata": {},
   "outputs": [
    {
     "name": "stdout",
     "output_type": "stream",
     "text": [
      "Fail to reject the null hypothesis. There is no significant evidence that the population mean is different from 70.\n"
     ]
    }
   ],
   "source": [
    "import scipy.stats as stats\n",
    "\n",
    "# Sample mean\n",
    "sample_mean = 72\n",
    "\n",
    "# Hypothesized population mean\n",
    "population_mean_hypothesis = 70\n",
    "\n",
    "# Sample standard deviation\n",
    "sample_stddev = 10\n",
    "\n",
    "# Sample size\n",
    "sample_size = 30\n",
    "\n",
    "# Significance level\n",
    "alpha = 0.05\n",
    "\n",
    "# Calculate the test statistic\n",
    "t_statistic = (sample_mean - population_mean_hypothesis) / (sample_stddev / (sample_size ** 0.5))\n",
    "\n",
    "# Degrees of freedom\n",
    "df = sample_size - 1\n",
    "\n",
    "# Calculate the critical t-value for a two-tailed test\n",
    "critical_value = stats.t.ppf(1 - alpha / 2, df)\n",
    "\n",
    "# Compare the test statistic to the critical value\n",
    "if abs(t_statistic) > critical_value:\n",
    "    print(\"Reject the null hypothesis. The population mean is significantly different from 70.\")\n",
    "else:\n",
    "    print(\"Fail to reject the null hypothesis. There is no significant evidence that the population mean is different from 70.\")\n"
   ]
  },
  {
   "cell_type": "markdown",
   "id": "fabc619c-dd5c-475e-9e72-7fb2a49fb734",
   "metadata": {},
   "source": [
    "This code performs a one-sample t-test and compares the calculated t-statistic to the critical t-value to determine whether to reject the null hypothesis. If the absolute value of the t-statistic is greater than the critical t-value, you would conclude that the population mean is significantly different from 70. Otherwise, you would fail to reject the null hypothesis."
   ]
  },
  {
   "cell_type": "code",
   "execution_count": null,
   "id": "1d4bb98b-05ed-4d0c-83e4-5ffc272716e0",
   "metadata": {},
   "outputs": [],
   "source": []
  },
  {
   "cell_type": "markdown",
   "id": "f5e16d9e-cb96-4506-8a9a-be3b3f5d16ab",
   "metadata": {},
   "source": [
    "."
   ]
  },
  {
   "cell_type": "code",
   "execution_count": null,
   "id": "280b9904-0383-4665-b5da-9c91b458abc5",
   "metadata": {},
   "outputs": [],
   "source": []
  }
 ],
 "metadata": {
  "kernelspec": {
   "display_name": "Python 3 (ipykernel)",
   "language": "python",
   "name": "python3"
  },
  "language_info": {
   "codemirror_mode": {
    "name": "ipython",
    "version": 3
   },
   "file_extension": ".py",
   "mimetype": "text/x-python",
   "name": "python",
   "nbconvert_exporter": "python",
   "pygments_lexer": "ipython3",
   "version": "3.10.8"
  }
 },
 "nbformat": 4,
 "nbformat_minor": 5
}
